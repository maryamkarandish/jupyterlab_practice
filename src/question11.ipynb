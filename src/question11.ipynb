{
 "cells": [
  {
   "cell_type": "markdown",
   "id": "d19d400d-5b88-4d38-8a20-a122ca34af62",
   "metadata": {},
   "source": [
    "# Maryam Karandish\n",
    "\n",
    "Notebook for assignment 7"
   ]
  },
  {
   "cell_type": "code",
   "execution_count": 1,
   "id": "3d834ff4-1d09-4c1c-b75e-f88c3b552d0c",
   "metadata": {},
   "outputs": [],
   "source": [
    "from statistics import mean"
   ]
  },
  {
   "cell_type": "code",
   "execution_count": 2,
   "id": "a97975fe-c104-4fc1-94c8-19efb531c7fe",
   "metadata": {},
   "outputs": [
    {
     "data": {
      "text/plain": [
       "5"
      ]
     },
     "execution_count": 2,
     "metadata": {},
     "output_type": "execute_result"
    }
   ],
   "source": [
    "mean([2, 4, 6, 8])"
   ]
  },
  {
   "cell_type": "markdown",
   "id": "b684ffe0-2ea9-497e-9f34-ccb2a652dd76",
   "metadata": {},
   "source": [
    "The Function above calculates the average of the numbers passed to the function. The mathematical formula of this function is as below:\n",
    "\n",
    "$$\n",
    "\\bar{x} = \\frac{x_1 + x_2 + ... + x_n}{n} = \\frac{1}{n}(\\sum_{i=1}^{n} x_{i})\n",
    "$$"
   ]
  }
 ],
 "metadata": {
  "kernelspec": {
   "display_name": "Python 3 (ipykernel)",
   "language": "python",
   "name": "python3"
  },
  "language_info": {
   "codemirror_mode": {
    "name": "ipython",
    "version": 3
   },
   "file_extension": ".py",
   "mimetype": "text/x-python",
   "name": "python",
   "nbconvert_exporter": "python",
   "pygments_lexer": "ipython3",
   "version": "3.11.6"
  }
 },
 "nbformat": 4,
 "nbformat_minor": 5
}
